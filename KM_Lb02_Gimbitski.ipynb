{
 "cells": [
  {
   "cell_type": "markdown",
   "metadata": {},
   "source": [
    "# Лабораторная работа 2\n",
    "# Встроенные типы обьектов в Python\n",
    "**Гимбицкий Матвей** **14.03.2025**"
   ]
  },
  {
   "cell_type": "markdown",
   "metadata": {},
   "source": [
    "# *Задание 1*\n",
    "\n",
    "# Иерархическая модель типов встроенных объектов Python.\n",
    "\n",
    " Встроенные типы объектов делятся на:\n",
    " \n",
    "Числа:\n",
    "\n",
    "\n",
    "- Целые числа(`int`), неизменяемые\n",
    "       \n",
    "- числа с плавающей точкой(`float`), неизменяемые\n",
    "      \n",
    "- комплексные числа(`complex`), неизменяемые\n",
    "   \n",
    "- Булевый тип(`bool`) - наследуется от `int`, неизменяемые\n",
    "\n",
    "Коллекции:\n",
    "\n",
    "    \n",
    "- Последовательности:\n",
    "   \n",
    "    - строки(`str`), неупорядоченные, неизменяемые.\n",
    "         \n",
    "    - списки(`list`), упорядоченные, изменяемые.\n",
    "         \n",
    "    - кортежи(`tuple`), упорядоченные, неизменяемые.\n",
    "       \n",
    "- Отображения:\n",
    "   \n",
    "    - словари(`dict`), неупорядоченные, изменяемые.\n",
    "      \n",
    "- Множества:\n",
    "   \n",
    "    - множества(`set`), неупорядоченные, изменяемые.\n",
    "\n",
    "\n",
    "Пример литералов для создания обьекта:\n",
    "\n",
    "- `42` - для `int`\n",
    "\n",
    "- `3.14` - для `float`\n",
    "\n",
    "- `1 + 1j` - для `complex`\n",
    "\n",
    "- `True` , `False` - для `bool`\n",
    "\n",
    "- `\"Hello\"` - для `str`\n",
    "\n",
    "- `[1,2,3]` - для `list`\n",
    "\n",
    "- `(1,2,3)` - для `tuple`\n",
    "\n",
    "- `{'a': 1, 'b': 2}` - для `dict`\n",
    "\n",
    "- `{1, 2, 3}` - для `set`\n",
    "    "
   ]
  },
  {
   "cell_type": "markdown",
   "metadata": {},
   "source": [
    "# Задание 2:\n",
    "Проработайте материал лекций, представленный в файле\n",
    "`2025_KM2_T2_Types.pdf`, разделы 2.1 – 2.12.\n",
    "\n",
    "# Выполнение задания 2:"
   ]
  },
  {
   "cell_type": "markdown",
   "metadata": {},
   "source": [
    "## Задание 2.1 \n",
    "\n",
    "- 2.1 Понятие объекта. Атрибуты. Методы. Встроенные типы объектов\n",
    "\n",
    "- 2.2 Встроенные типы объектов, представляющих числа\n",
    " \n",
    "- 2.3 Встроенные типы последовательностей: str, list, tuple\n",
    "\n",
    "- 2.4 Встроенный тип отображения: dict\n",
    "\n",
    "- 2.5 Встроенный тип множества: set\n",
    "\n",
    "- 2.6 Встроенный булевый тип\n",
    "\n",
    "- 2.7 Изменяемые и неизменяемые встроенные типы объектов\n",
    "\n",
    "- 2.8 Интерфейс объекта: операции и методы\n",
    "\n",
    "- 2.9 Переменная\n",
    "\n",
    "- 2.10 Выражение спискового включения\n",
    "\n",
    "- 2.11 Форматированный вывод строк\n",
    "\n",
    "- 2.12 Файловый объект"
   ]
  },
  {
   "cell_type": "markdown",
   "metadata": {},
   "source": [
    "\n",
    "## 2.2 Встроенные типы объектов, представляющих числа"
   ]
  },
  {
   "cell_type": "code",
   "execution_count": 2,
   "metadata": {},
   "outputs": [
    {
     "name": "stdout",
     "output_type": "stream",
     "text": [
      "Сумма: 13.7\n",
      "Разность: 7.3\n",
      "Произведение: 33.60\n",
      "Деление: 3.28125\n"
     ]
    }
   ],
   "source": [
    "from decimal import Decimal\n",
    "num1 = Decimal('10.5')\n",
    "num2 = Decimal('3.2')       \n",
    "print(\"Сумма:\", num1 + num2)        \n",
    "print(\"Разность:\", num1 - num2)      \n",
    "print(\"Произведение:\", num1 * num2)     \n",
    "print(\"Деление:\", num1 / num2)        "
   ]
  },
  {
   "cell_type": "code",
   "execution_count": 3,
   "metadata": {},
   "outputs": [
    {
     "name": "stdout",
     "output_type": "stream",
     "text": [
      "Сумма: 5/4\n",
      "Разность: 1/4\n",
      "Произведение: 3/8\n",
      "Деление: 3/2\n"
     ]
    }
   ],
   "source": [
    "from fractions import Fraction\n",
    "frac1 = Fraction(3, 4)  \n",
    "frac2 = Fraction(1, 2)    \n",
    "print(\"Сумма:\", frac1 + frac2)          \n",
    "print(\"Разность:\", frac1 - frac2)  \n",
    "print(\"Произведение:\", frac1 * frac2) \n",
    "print(\"Деление:\",frac1 / frac2)    "
   ]
  },
  {
   "cell_type": "markdown",
   "metadata": {},
   "source": [
    "## 2.3 Встроенные типы последовательностей: str, list, tuple"
   ]
  },
  {
   "cell_type": "code",
   "execution_count": 4,
   "metadata": {},
   "outputs": [
    {
     "name": "stdout",
     "output_type": "stream",
     "text": [
      "spam\n",
      "slam\n"
     ]
    }
   ],
   "source": [
    "S = 'spam'\n",
    "print(S)\n",
    "S = S[:1] + 'l' + S[2:]\n",
    "print(S)  \n"
   ]
  },
  {
   "cell_type": "markdown",
   "metadata": {},
   "source": [
    "\n",
    "- S[:1] — это срез строки, который берет все символы строки S до индекса 1 (не включая его). В данном случае это 's'.\n",
    "- 'l' — это просто символ 'l', который мы хотим вставить в строку.\n",
    "- S[2:] — это срез строки, который берет все символы, начиная с индекса 2 до конца строки. В данном случае это 'am'.\n",
    "\n",
    "Для списка(`list`)"
   ]
  },
  {
   "cell_type": "code",
   "execution_count": 5,
   "metadata": {},
   "outputs": [
    {
     "name": "stdout",
     "output_type": "stream",
     "text": [
      "['s', 'l', 'a', 'm']\n"
     ]
    }
   ],
   "source": [
    "L = ['s', 'p', 'a', 'm']\n",
    "L[1] = 'l'\n",
    "print(L)  "
   ]
  },
  {
   "cell_type": "markdown",
   "metadata": {},
   "source": [
    "Для кортеджа(`tuple`)"
   ]
  },
  {
   "cell_type": "code",
   "execution_count": 6,
   "metadata": {},
   "outputs": [
    {
     "name": "stdout",
     "output_type": "stream",
     "text": [
      "('s', 'l', 'a', 'm')\n"
     ]
    }
   ],
   "source": [
    "T = ('s', 'p', 'a', 'm')\n",
    "T = T[:1] + ('l',) + T[2:]\n",
    "print(T)  "
   ]
  },
  {
   "cell_type": "markdown",
   "metadata": {},
   "source": [
    "## 2.4 Встроенный тип отображения: dict"
   ]
  },
  {
   "cell_type": "code",
   "execution_count": 7,
   "metadata": {},
   "outputs": [
    {
     "name": "stdout",
     "output_type": "stream",
     "text": [
      "Имя: Матвей, Возраст: 18, Email: gimbitski.matvey@inbox.ru\n"
     ]
    }
   ],
   "source": [
    "personal_info = {\n",
    "    \"имя\": \"Матвей\",\n",
    "    \"отчество\": \"Дмитриевич\",\n",
    "    \"фамилия\": \"Гимбицкий\",\n",
    "    \"возраст\": 18,\n",
    "    \"место работы\": \"BSU\",\n",
    "    \"адрес\": \"Минск, Беларусь\",\n",
    "    \"email\": \"gimbitski.matvey@inbox.ru\",\n",
    "    \"телефон\": \"+375297654321\"\n",
    "}\n",
    "name = personal_info[\"имя\"]\n",
    "age = personal_info[\"возраст\"]\n",
    "email = personal_info[\"email\"]\n",
    "print(f\"Имя: {name}, Возраст: {age}, Email: {email}\")\n"
   ]
  },
  {
   "cell_type": "markdown",
   "metadata": {},
   "source": [
    "## 2.5 Встроенный тип множества: set"
   ]
  },
  {
   "cell_type": "code",
   "execution_count": 8,
   "metadata": {},
   "outputs": [
    {
     "name": "stdout",
     "output_type": "stream",
     "text": [
      "matttvvvveeeeeeeyy\n",
      "matvey\n"
     ]
    }
   ],
   "source": [
    "a='matttvvvveeeeeeeyy'\n",
    "print(a)\n",
    "a1=\"\"\n",
    "for i in a:\n",
    "    if i not in a1:\n",
    "        a1+=i\n",
    "print(a1)"
   ]
  },
  {
   "cell_type": "markdown",
   "metadata": {},
   "source": [
    "## 2.8 Интерфейс объекта: операции и методы"
   ]
  },
  {
   "cell_type": "markdown",
   "metadata": {},
   "source": [
    "Метод `count` возвращает количество вхождений подстроки в строке."
   ]
  },
  {
   "cell_type": "code",
   "execution_count": 9,
   "metadata": {},
   "outputs": [
    {
     "name": "stdout",
     "output_type": "stream",
     "text": [
      "2\n"
     ]
    }
   ],
   "source": [
    "text = \"hello world\"\n",
    "count_h = text.count(\"o\")\n",
    "print(count_h)"
   ]
  },
  {
   "cell_type": "markdown",
   "metadata": {},
   "source": [
    "Метод `index` возвращает индекс первого вхождения подстроки в строке"
   ]
  },
  {
   "cell_type": "code",
   "execution_count": 10,
   "metadata": {},
   "outputs": [
    {
     "name": "stdout",
     "output_type": "stream",
     "text": [
      "4\n"
     ]
    }
   ],
   "source": [
    "index_h = text.index(\"o\")\n",
    "print(index_h)  "
   ]
  },
  {
   "cell_type": "code",
   "execution_count": 11,
   "metadata": {},
   "outputs": [
    {
     "name": "stdout",
     "output_type": "stream",
     "text": [
      "ПРИВЕТ, ВСЕЛЕННАЯ!\n"
     ]
    }
   ],
   "source": [
    "a = \"  Привет, мир!    \"\n",
    "b= a.strip().upper().replace(\"МИР\", \"ВСЕЛЕННАЯ\")\n",
    "print(b)"
   ]
  },
  {
   "cell_type": "markdown",
   "metadata": {},
   "source": [
    "Метод `append`:"
   ]
  },
  {
   "cell_type": "code",
   "execution_count": 12,
   "metadata": {},
   "outputs": [
    {
     "name": "stdout",
     "output_type": "stream",
     "text": [
      "[1, 2, 3, 4]\n"
     ]
    }
   ],
   "source": [
    "my_list = [1, 2, 3]\n",
    "my_list.append(4)\n",
    "print(my_list)  "
   ]
  },
  {
   "cell_type": "markdown",
   "metadata": {},
   "source": [
    "Метод append() добавляет элемент в конец списка.\n",
    "\n",
    "Метод `extend`:\n"
   ]
  },
  {
   "cell_type": "code",
   "execution_count": 13,
   "metadata": {},
   "outputs": [
    {
     "name": "stdout",
     "output_type": "stream",
     "text": [
      "[1, 2, 3, 4, 5, 6]\n"
     ]
    }
   ],
   "source": [
    "my_list = [1, 2, 3]\n",
    "my_list.extend([4, 5, 6])\n",
    "print(my_list) "
   ]
  },
  {
   "cell_type": "markdown",
   "metadata": {},
   "source": [
    "Метод extend() добавляет элементы из итерируемого объекта (например, другого списка) в конец текущего списка.\n",
    "\n",
    "Метод `insert`:"
   ]
  },
  {
   "cell_type": "code",
   "execution_count": 14,
   "metadata": {},
   "outputs": [
    {
     "name": "stdout",
     "output_type": "stream",
     "text": [
      "[1, 1.5, 2, 3]\n"
     ]
    }
   ],
   "source": [
    "my_list = [1, 2, 3]\n",
    "my_list.insert(1, 1.5)\n",
    "print(my_list)  "
   ]
  },
  {
   "cell_type": "markdown",
   "metadata": {},
   "source": [
    "Метод insert() добавляет элемент по указанному индексу. Все элементы, находящиеся после этого индекса, сдвигаются вправо."
   ]
  },
  {
   "cell_type": "code",
   "execution_count": 15,
   "metadata": {},
   "outputs": [
    {
     "name": "stdout",
     "output_type": "stream",
     "text": [
      "['123', '123435', '11234453467789']\n"
     ]
    }
   ],
   "source": [
    "lst = [\"123435\", \"11234453467789\", \"123\"]\n",
    "lst.sort(key=len) \n",
    "print(lst)\n"
   ]
  },
  {
   "cell_type": "code",
   "execution_count": 16,
   "metadata": {},
   "outputs": [
    {
     "name": "stdout",
     "output_type": "stream",
     "text": [
      "1=значение\n",
      "2=значение\n",
      "3=значение\n",
      "4=значение\n",
      "5=значение\n",
      "6=значение\n",
      "7=значение\n",
      "8=значение\n",
      "9=значение\n",
      "10=значение\n",
      "11=значение\n",
      "12=значение\n",
      "13=значение\n",
      "14=значение\n",
      "15=значение\n",
      "16=значение\n",
      "17=значение\n",
      "18=значение\n",
      "19=значение\n",
      "20=значение\n",
      "21=значение\n",
      "22=значение\n",
      "23=значение\n",
      "24=значение\n",
      "25=значение\n",
      "26=значение\n",
      "27=значение\n",
      "28=значение\n",
      "29=значение\n",
      "30=значение\n",
      "31=значение\n",
      "32=значение\n",
      "33=значение\n",
      "34=значение\n",
      "35=значение\n",
      "36=значение\n",
      "37=значение\n",
      "38=значение\n",
      "39=значение\n",
      "40=значение\n",
      "41=значение\n",
      "42=значение\n",
      "43=значение\n",
      "44=значение\n",
      "45=значение\n",
      "46=значение\n",
      "47=значение\n",
      "48=значение\n",
      "49=значение\n",
      "50=значение\n",
      "51=значение\n",
      "52=значение\n",
      "53=значение\n",
      "54=значение\n",
      "55=значение\n",
      "56=значение\n",
      "57=значение\n",
      "58=значение\n",
      "59=значение\n",
      "60=значение\n",
      "61=значение\n",
      "62=значение\n",
      "63=значение\n",
      "64=значение\n",
      "65=значение\n",
      "66=значение\n",
      "67=значение\n",
      "68=значение\n",
      "69=значение\n",
      "70=значение\n",
      "71=значение\n",
      "72=значение\n",
      "73=значение\n",
      "74=значение\n",
      "75=значение\n",
      "76=значение\n",
      "77=значение\n",
      "78=значение\n",
      "79=значение\n",
      "80=значение\n",
      "81=значение\n",
      "82=значение\n",
      "83=значение\n",
      "84=значение\n",
      "85=значение\n",
      "86=значение\n",
      "87=значение\n",
      "88=значение\n",
      "89=значение\n",
      "90=значение\n",
      "91=значение\n",
      "92=значение\n",
      "93=значение\n",
      "94=значение\n",
      "95=значение\n",
      "96=значение\n",
      "97=значение\n",
      "98=значение\n",
      "99=значение\n",
      "100=значение\n"
     ]
    }
   ],
   "source": [
    "for i in range (1,101):\n",
    "    print(f\"{i}=значение\")"
   ]
  },
  {
   "cell_type": "markdown",
   "metadata": {},
   "source": [
    "\n",
    "\n",
    "## 2.9 Переменная"
   ]
  },
  {
   "cell_type": "code",
   "execution_count": 17,
   "metadata": {},
   "outputs": [
    {
     "data": {
      "text/plain": [
       "[1, 2, [...]]"
      ]
     },
     "execution_count": 17,
     "metadata": {},
     "output_type": "execute_result"
    }
   ],
   "source": [
    "a = [1, 2]\n",
    "a.append(a)\n",
    "a"
   ]
  },
  {
   "cell_type": "code",
   "execution_count": 18,
   "metadata": {},
   "outputs": [
    {
     "data": {
      "text/plain": [
       "{'one': 1, 'two': 2, 'three': {...}}"
      ]
     },
     "execution_count": 18,
     "metadata": {},
     "output_type": "execute_result"
    }
   ],
   "source": [
    "a={'one':1,'two':2}\n",
    "a['three']=a;a"
   ]
  },
  {
   "cell_type": "code",
   "execution_count": 19,
   "metadata": {},
   "outputs": [
    {
     "name": "stdout",
     "output_type": "stream",
     "text": [
      "Копия 1: [1, 2, 3]\n",
      "Копия 2: [1, 2, 3]\n",
      "Копия 3: [1, 2, 3]\n"
     ]
    }
   ],
   "source": [
    "a = [1, 2, 3]\n",
    "x = a.copy()\n",
    "x1 = a[:]\n",
    "x2 = list(a)\n",
    "print(\"Копия 1:\", x)              \n",
    "print(\"Копия 2:\", x1)               \n",
    "print(\"Копия 3:\", x2)              "
   ]
  },
  {
   "cell_type": "markdown",
   "metadata": {},
   "source": [
    "## 2.10 Выражение спискового включения"
   ]
  },
  {
   "cell_type": "code",
   "execution_count": 27,
   "metadata": {},
   "outputs": [
    {
     "name": "stdout",
     "output_type": "stream",
     "text": [
      "{1, 3, 5, 7, 9}\n"
     ]
    }
   ],
   "source": [
    "a = {x for x in range(10) if x % 2 == 1}\n",
    "print(a)"
   ]
  },
  {
   "cell_type": "code",
   "execution_count": 24,
   "metadata": {},
   "outputs": [
    {
     "name": "stdout",
     "output_type": "stream",
     "text": [
      "Матрица с использованием списковых включений:\n",
      "[0, 1, 2, 3, 4, 5, 6, 7]\n",
      "[8, 9, 10, 11, 12, 13, 14, 15]\n",
      "[16, 17, 18, 19, 20, 21, 22, 23]\n",
      "[24, 25, 26, 27, 28, 29, 30, 31]\n",
      "[32, 33, 34, 35, 36, 37, 38, 39]\n",
      "[40, 41, 42, 43, 44, 45, 46, 47]\n",
      "[48, 49, 50, 51, 52, 53, 54, 55]\n",
      "\n",
      "Матрица с использованием numpy:\n",
      "[[ 0  1  2  3  4  5  6  7]\n",
      " [ 8  9 10 11 12 13 14 15]\n",
      " [16 17 18 19 20 21 22 23]\n",
      " [24 25 26 27 28 29 30 31]\n",
      " [32 33 34 35 36 37 38 39]\n",
      " [40 41 42 43 44 45 46 47]\n",
      " [48 49 50 51 52 53 54 55]]\n"
     ]
    }
   ],
   "source": [
    "import numpy as np\n",
    "matrix_list = [[j + i * 8 for j in range(8)] for i in range(7)]\n",
    "print(\"Матрица с использованием списковых включений:\")\n",
    "for row in matrix_list:\n",
    "    print(row)\n",
    "matrix_numpy = np.arange(56).reshape(7, 8)\n",
    "print(\"\\nМатрица с использованием numpy:\")\n",
    "print(matrix_numpy)"
   ]
  },
  {
   "cell_type": "code",
   "execution_count": null,
   "metadata": {},
   "outputs": [
    {
     "name": "stdout",
     "output_type": "stream",
     "text": [
      "{0: {'a': 5, 'b': 10, 'c': 15}, 1: {'a': 6, 'b': 11, 'c': 16}, 2: {'a': 7, 'b': 12, 'c': 17}, 3: {'a': 8, 'b': 13, 'c': 18}}\n"
     ]
    }
   ],
   "source": [
    "a = {}\n",
    "\n",
    "for i in range(4):\n",
    "    a[i] = {'a': i+5, 'b': i+10, 'c':i+15}\n",
    "print(a)"
   ]
  },
  {
   "cell_type": "markdown",
   "metadata": {},
   "source": [
    "## 2.11 Форматированный вывод строк"
   ]
  },
  {
   "cell_type": "code",
   "execution_count": null,
   "metadata": {},
   "outputs": [
    {
     "name": "stdout",
     "output_type": "stream",
     "text": [
      "Значение: value=1         \n"
     ]
    }
   ],
   "source": [
    "value = 1\n",
    "print(f'Значение: {value=:<10}') "
   ]
  },
  {
   "cell_type": "code",
   "execution_count": 45,
   "metadata": {},
   "outputs": [
    {
     "name": "stdout",
     "output_type": "stream",
     "text": [
      "Результат: x+y=15        \n"
     ]
    }
   ],
   "source": [
    "x = 10\n",
    "y = 5\n",
    "print(f'Результат: {x+y=:<10}')\n"
   ]
  },
  {
   "cell_type": "markdown",
   "metadata": {},
   "source": [
    "## 2.12 Файловый объект"
   ]
  },
  {
   "cell_type": "code",
   "execution_count": null,
   "metadata": {},
   "outputs": [
    {
     "name": "stdout",
     "output_type": "stream",
     "text": [
      "Содержимое файла:\n",
      "Первая строка\n",
      "Вторая строка\n",
      "Третья строка\n",
      "Четвертая строка\n",
      "\n",
      "Чтение построчно:\n",
      "Первая строка\n",
      "Вторая строка\n",
      "Все строки в списке:\n",
      "['Первая строка', 'Вторая строка', 'Третья строка', 'Четвертая строка']\n"
     ]
    }
   ],
   "source": [
    "with open('example.txt', 'w') as file:\n",
    "    file.write('Первая строка\\n')\n",
    "    file.write('Вторая строка\\n')\n",
    "    file.writelines(['Третья строка\\n', 'Четвертая строка\\n'])\n",
    "\n",
    "with open('example.txt', 'r') as file:\n",
    "    content = file.read()\n",
    "    print('Содержимое файла:')\n",
    "    print(content)\n",
    "\n",
    "    \n",
    "    file.seek(0)  \n",
    "    print('Чтение построчно:')\n",
    "    first_line = file.readline()\n",
    "    print(first_line.strip()) \n",
    "\n",
    "    second_line = file.readline()\n",
    "    print(second_line.strip())\n",
    "\n",
    "    \n",
    "    file.seek(0)  \n",
    "    lines = file.readlines()\n",
    "    print('Все строки в списке:')\n",
    "    print([line.strip() for line in lines])  "
   ]
  },
  {
   "cell_type": "markdown",
   "metadata": {},
   "source": [
    "# Задание 2.3\n",
    "1 ошибка"
   ]
  },
  {
   "cell_type": "code",
   "execution_count": 47,
   "metadata": {},
   "outputs": [
    {
     "name": "stdout",
     "output_type": "stream",
     "text": [
      "\\c Æ\n"
     ]
    },
    {
     "name": "stderr",
     "output_type": "stream",
     "text": [
      "<>:1: SyntaxWarning: invalid escape sequence '\\c'\n",
      "<>:1: SyntaxWarning: invalid escape sequence '\\c'\n",
      "/var/folders/lp/_nklc76j0bb3fy5hnqjk1gsw0000gn/T/ipykernel_2312/1155648579.py:1: SyntaxWarning: invalid escape sequence '\\c'\n",
      "  print('\\c \\xc6')\n"
     ]
    }
   ],
   "source": [
    "print('\\c \\xc6')"
   ]
  },
  {
   "cell_type": "markdown",
   "metadata": {},
   "source": [
    "Ошибка появляется потому что питон не распознает символ `c` после \\ в качестве допустимого управляющего кода.Нужно использовать raw-строку\n",
    "\n",
    "2 ошибка\n"
   ]
  },
  {
   "cell_type": "code",
   "execution_count": 48,
   "metadata": {},
   "outputs": [
    {
     "ename": "IndexError",
     "evalue": "string index out of range",
     "output_type": "error",
     "traceback": [
      "\u001b[31m---------------------------------------------------------------------------\u001b[39m",
      "\u001b[31mIndexError\u001b[39m                                Traceback (most recent call last)",
      "\u001b[36mCell\u001b[39m\u001b[36m \u001b[39m\u001b[32mIn[48]\u001b[39m\u001b[32m, line 2\u001b[39m\n\u001b[32m      1\u001b[39m str1= \u001b[33m'\u001b[39m\u001b[33mString\u001b[39m\u001b[33m'\u001b[39m\n\u001b[32m----> \u001b[39m\u001b[32m2\u001b[39m \u001b[43mstr1\u001b[49m\u001b[43m[\u001b[49m\u001b[32;43m10\u001b[39;49m\u001b[43m]\u001b[49m\n",
      "\u001b[31mIndexError\u001b[39m: string index out of range"
     ]
    }
   ],
   "source": [
    "str1= 'String'\n",
    "str1[10]"
   ]
  },
  {
   "cell_type": "markdown",
   "metadata": {},
   "source": [
    "Индекс 10 выходит за пределы строки.Можно заполнить строку до нужной длины, указать существующий индекс или написать вывод об ошибке\n",
    "\n",
    "3 ошибка"
   ]
  },
  {
   "cell_type": "code",
   "execution_count": 49,
   "metadata": {},
   "outputs": [
    {
     "ename": "TypeError",
     "evalue": "can only concatenate list (not \"str\") to list",
     "output_type": "error",
     "traceback": [
      "\u001b[31m---------------------------------------------------------------------------\u001b[39m",
      "\u001b[31mTypeError\u001b[39m                                 Traceback (most recent call last)",
      "\u001b[36mCell\u001b[39m\u001b[36m \u001b[39m\u001b[32mIn[49]\u001b[39m\u001b[32m, line 1\u001b[39m\n\u001b[32m----> \u001b[39m\u001b[32m1\u001b[39m \u001b[43m[\u001b[49m\u001b[32;43m1\u001b[39;49m\u001b[43m]\u001b[49m\u001b[43m \u001b[49m\u001b[43m+\u001b[49m\u001b[43m \u001b[49m\u001b[33;43m'\u001b[39;49m\u001b[33;43m1\u001b[39;49m\u001b[33;43m'\u001b[39;49m\n",
      "\u001b[31mTypeError\u001b[39m: can only concatenate list (not \"str\") to list"
     ]
    }
   ],
   "source": [
    "[1] + '1'"
   ]
  },
  {
   "cell_type": "markdown",
   "metadata": {},
   "source": [
    "\t\n",
    "В выражении с операцией сложения + для последовательностей в качестве операндов могут быть использованы только объекты одного и того же типа. Нельзя использовать последовательности различных типов в операции сложения + из-за строгой типизации объектов в Python.\n",
    "\n",
    "4 ошибка "
   ]
  },
  {
   "cell_type": "code",
   "execution_count": 50,
   "metadata": {},
   "outputs": [
    {
     "ename": "NameError",
     "evalue": "name 'dict1' is not defined",
     "output_type": "error",
     "traceback": [
      "\u001b[31m---------------------------------------------------------------------------\u001b[39m",
      "\u001b[31mNameError\u001b[39m                                 Traceback (most recent call last)",
      "\u001b[36mCell\u001b[39m\u001b[36m \u001b[39m\u001b[32mIn[50]\u001b[39m\u001b[32m, line 1\u001b[39m\n\u001b[32m----> \u001b[39m\u001b[32m1\u001b[39m \u001b[43mdict1\u001b[49m[\u001b[33m'\u001b[39m\u001b[33mtwo\u001b[39m\u001b[33m'\u001b[39m]\n",
      "\u001b[31mNameError\u001b[39m: name 'dict1' is not defined"
     ]
    }
   ],
   "source": [
    "dict1['two']"
   ]
  },
  {
   "cell_type": "markdown",
   "metadata": {},
   "source": [
    "Несуществующий ключ \"two\"\n",
    "\n",
    "5 ошибка "
   ]
  },
  {
   "cell_type": "code",
   "execution_count": 51,
   "metadata": {},
   "outputs": [
    {
     "ename": "TypeError",
     "evalue": "'tuple' object does not support item assignment",
     "output_type": "error",
     "traceback": [
      "\u001b[31m---------------------------------------------------------------------------\u001b[39m",
      "\u001b[31mTypeError\u001b[39m                                 Traceback (most recent call last)",
      "\u001b[36mCell\u001b[39m\u001b[36m \u001b[39m\u001b[32mIn[51]\u001b[39m\u001b[32m, line 2\u001b[39m\n\u001b[32m      1\u001b[39m t = [\u001b[32m1\u001b[39m,\u001b[32m2\u001b[39m], {\u001b[32m1\u001b[39m:\u001b[32m2\u001b[39m}, {\u001b[32m1\u001b[39m,\u001b[32m2\u001b[39m}; \n\u001b[32m----> \u001b[39m\u001b[32m2\u001b[39m \u001b[43mt\u001b[49m\u001b[43m[\u001b[49m\u001b[32;43m0\u001b[39;49m\u001b[43m]\u001b[49m = \u001b[32m0\u001b[39m\n",
      "\u001b[31mTypeError\u001b[39m: 'tuple' object does not support item assignment"
     ]
    }
   ],
   "source": [
    "t = [1,2], {1:2}, {1,2}; \n",
    "t[0] = 0"
   ]
  },
  {
   "cell_type": "markdown",
   "metadata": {},
   "source": [
    "Когда вы пытаетесь выполнить t[0] = 0, это приведет к ошибке, если t определен как кортеж, потому что кортежи являются неизменяемыми (immutable) в Python. Вы не можете изменять элементы кортежа после его создания.\n",
    "\n",
    "6 ошибка "
   ]
  },
  {
   "cell_type": "code",
   "execution_count": 52,
   "metadata": {},
   "outputs": [
    {
     "ename": "TypeError",
     "evalue": "unhashable type: 'list'",
     "output_type": "error",
     "traceback": [
      "\u001b[31m---------------------------------------------------------------------------\u001b[39m",
      "\u001b[31mTypeError\u001b[39m                                 Traceback (most recent call last)",
      "\u001b[36mCell\u001b[39m\u001b[36m \u001b[39m\u001b[32mIn[52]\u001b[39m\u001b[32m, line 1\u001b[39m\n\u001b[32m----> \u001b[39m\u001b[32m1\u001b[39m \u001b[43m{\u001b[49m\u001b[32;43m1\u001b[39;49m\u001b[43m,\u001b[49m\u001b[43m \u001b[49m\u001b[33;43m'\u001b[39;49m\u001b[33;43mstr\u001b[39;49m\u001b[33;43m'\u001b[39;49m\u001b[43m,\u001b[49m\u001b[43m \u001b[49m\u001b[43m(\u001b[49m\u001b[32;43m1\u001b[39;49m\u001b[43m,\u001b[49m\u001b[43m)\u001b[49m\u001b[43m}\u001b[49m\u001b[43m.\u001b[49m\u001b[43madd\u001b[49m\u001b[43m(\u001b[49m\u001b[43m[\u001b[49m\u001b[32;43m1\u001b[39;49m\u001b[43m]\u001b[49m\u001b[43m)\u001b[49m\n",
      "\u001b[31mTypeError\u001b[39m: unhashable type: 'list'"
     ]
    }
   ],
   "source": [
    "{1, 'str', (1,)}.add([1])"
   ]
  },
  {
   "cell_type": "markdown",
   "metadata": {},
   "source": [
    "Элементами множества могут являться только объекты неизменяемых типов: число, строка, кортеж.\n",
    "\n",
    "7 ошибка"
   ]
  },
  {
   "cell_type": "code",
   "execution_count": 53,
   "metadata": {},
   "outputs": [
    {
     "name": "stdout",
     "output_type": "stream",
     "text": [
      "s+t+r+i+n+g -1\n"
     ]
    },
    {
     "ename": "ValueError",
     "evalue": "substring not found",
     "output_type": "error",
     "traceback": [
      "\u001b[31m---------------------------------------------------------------------------\u001b[39m",
      "\u001b[31mValueError\u001b[39m                                Traceback (most recent call last)",
      "\u001b[36mCell\u001b[39m\u001b[36m \u001b[39m\u001b[32mIn[53]\u001b[39m\u001b[32m, line 4\u001b[39m\n\u001b[32m      1\u001b[39m s = \u001b[33m'\u001b[39m\u001b[33m+\u001b[39m\u001b[33m'\u001b[39m.join(\u001b[33m'\u001b[39m\u001b[33mstring\u001b[39m\u001b[33m'\u001b[39m); s\n\u001b[32m      3\u001b[39m \u001b[38;5;28mprint\u001b[39m(s, s.find(\u001b[33m'\u001b[39m\u001b[33m-\u001b[39m\u001b[33m'\u001b[39m))\n\u001b[32m----> \u001b[39m\u001b[32m4\u001b[39m \u001b[43ms\u001b[49m\u001b[43m.\u001b[49m\u001b[43mindex\u001b[49m\u001b[43m(\u001b[49m\u001b[33;43m'\u001b[39;49m\u001b[33;43m-\u001b[39;49m\u001b[33;43m'\u001b[39;49m\u001b[43m)\u001b[49m\n",
      "\u001b[31mValueError\u001b[39m: substring not found"
     ]
    }
   ],
   "source": [
    "s = '+'.join('string'); s\n",
    "\n",
    "print(s, s.find('-'))\n",
    "s.index('-')"
   ]
  },
  {
   "cell_type": "markdown",
   "metadata": {},
   "source": [
    "подстрока не содержится в строке поэтому python выдает ошибку"
   ]
  },
  {
   "cell_type": "code",
   "execution_count": 54,
   "metadata": {},
   "outputs": [
    {
     "ename": "NameError",
     "evalue": "name 'd' is not defined",
     "output_type": "error",
     "traceback": [
      "\u001b[31m---------------------------------------------------------------------------\u001b[39m",
      "\u001b[31mNameError\u001b[39m                                 Traceback (most recent call last)",
      "\u001b[36mCell\u001b[39m\u001b[36m \u001b[39m\u001b[32mIn[54]\u001b[39m\u001b[32m, line 2\u001b[39m\n\u001b[32m      1\u001b[39m a = \u001b[32m1\u001b[39m \u001b[38;5;66;03m# создание переменной\u001b[39;00m\n\u001b[32m----> \u001b[39m\u001b[32m2\u001b[39m a, \u001b[43md\u001b[49m\n",
      "\u001b[31mNameError\u001b[39m: name 'd' is not defined"
     ]
    }
   ],
   "source": [
    "a = 1 # создание переменной\n",
    "a, d"
   ]
  },
  {
   "cell_type": "markdown",
   "metadata": {},
   "source": [
    "Чтобы переменную можно было использовать, ей обязательно должно быть присвоено значение. Использование переменной до того, как ей было присвоено значение, всегда приведет к ошибке."
   ]
  },
  {
   "cell_type": "code",
   "execution_count": 55,
   "metadata": {},
   "outputs": [
    {
     "name": "stdout",
     "output_type": "stream",
     "text": [
      "1\n"
     ]
    },
    {
     "ename": "TypeError",
     "evalue": "'int' object is not callable",
     "output_type": "error",
     "traceback": [
      "\u001b[31m---------------------------------------------------------------------------\u001b[39m",
      "\u001b[31mTypeError\u001b[39m                                 Traceback (most recent call last)",
      "\u001b[36mCell\u001b[39m\u001b[36m \u001b[39m\u001b[32mIn[55]\u001b[39m\u001b[32m, line 3\u001b[39m\n\u001b[32m      1\u001b[39m \u001b[38;5;28mprint\u001b[39m(\u001b[38;5;28mabs\u001b[39m(-\u001b[32m1\u001b[39m))\n\u001b[32m      2\u001b[39m \u001b[38;5;28mabs\u001b[39m = \u001b[32m5\u001b[39m\n\u001b[32m----> \u001b[39m\u001b[32m3\u001b[39m \u001b[38;5;28mprint\u001b[39m(\u001b[38;5;28;43mabs\u001b[39;49m\u001b[43m(\u001b[49m\u001b[43m-\u001b[49m\u001b[32;43m1\u001b[39;49m\u001b[43m)\u001b[49m)\n",
      "\u001b[31mTypeError\u001b[39m: 'int' object is not callable"
     ]
    }
   ],
   "source": [
    "print(abs(-1))\n",
    "abs = 5\n",
    "print(abs(-1))"
   ]
  },
  {
   "cell_type": "markdown",
   "metadata": {},
   "source": [
    "Ошибка возникает из-за того, что мы переопределяем встроенную функцию abs в Python, присваивая ей значение 5. После этого abs больше не ссылается на встроенную функцию, которая вычисляет абсолютное значение числа. Вместо этого она становится обычной переменной с целочисленным значением 5."
   ]
  }
 ],
 "metadata": {
  "kernelspec": {
   "display_name": "venv",
   "language": "python",
   "name": "python3"
  },
  "language_info": {
   "codemirror_mode": {
    "name": "ipython",
    "version": 3
   },
   "file_extension": ".py",
   "mimetype": "text/x-python",
   "name": "python",
   "nbconvert_exporter": "python",
   "pygments_lexer": "ipython3",
   "version": "3.13.2"
  }
 },
 "nbformat": 4,
 "nbformat_minor": 2
}
