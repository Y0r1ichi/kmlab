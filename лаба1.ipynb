{
 "cells": [
  {
   "cell_type": "markdown",
   "id": "e0902d58-db0a-48e8-affd-40ba52c2f4aa",
   "metadata": {},
   "source": [
    "# Лабораторная работа 1\n",
    "# Задача о падении тела. Построение графиков функций"
   ]
  },
  {
   "cell_type": "markdown",
   "id": "2535dd59-acb2-406f-bc37-63a6c64a3189",
   "metadata": {},
   "source": [
    "Компьютерная математика , ММФ, БГУ\n",
    "Гимбицкий М.Д. 12.02.2025"
   ]
  },
  {
   "cell_type": "markdown",
   "id": "ad4ca31a-281e-4a02-81fa-bd06a648428b",
   "metadata": {},
   "source": [
    "# Задание 1.1. Задача о падении тела"
   ]
  },
  {
   "cell_type": "markdown",
   "id": "9be8f84c",
   "metadata": {},
   "source": [
    "**Описание процесса**.\n",
    "Тело запущено под углом $\\alpha$ к горизонту на высоте $h_{start}$ и через\n",
    "время $t=T$ достигает другое тело, расположенное на расстоянии $s_{end}$ и\n",
    "высоте $h_{end}$.\n",
    "\n",
    "**Предположения**.\n",
    "- Тело будем считать материальной точкой массы $m$.\n",
    "- Движение запущенного тела осуществляется только под действием силы\n",
    "тяжести $${\\bf F} = m (0,-g),$$ где $m$ -- масса тела, $g$ -- ускорение\n",
    "свободного падения.\n",
    "- Сопротивлением среды пренебрегаем.\n",
    "\n",
    "**Данные**.\n",
    "- Задача рассматривается при при следующих значениях параметров: $h_{start} =  $ 1 m , $h_{end} =  $ 3 m, $T = $ 3 s,  $s_{end} = $ 5 m.\n",
    "- угол запуска тела  $\\alpha$ не известен.\n",
    "- Начальный момент времени движения тела полагаем равным нулю: $t=$ 0.\n",
    "- Значение массы $m$ тела не повлияет на функции перемещения тела.\n",
    "\n",
    "**Задания для выполнения**.\n",
    "- $\\color{red}\\text{Определите}$ функцию перемещения тела $(s_{x}(t),s_{y}(t)) $ под действием силы тяжести, где $s_{x}(t),s_{y}(t)$ $-$ горизонтальная и вертикальная\n",
    "составляющая положения тела в момент времени $t$, соответственно.\n",
    "\n",
    "- $\\color{red}\\text{Найдите}$  угол запуска тела $\\alpha$.\n",
    "- $\\color{red}\\text{Постройте}$ график траектории движения тела $(s_{x}(t),s_{y}(t)) $ для $t \\in [0, T] $\n"
   ]
  },
  {
   "cell_type": "markdown",
   "id": "4eba1b41-a22d-43bf-8490-21bd43919029",
   "metadata": {},
   "source": [
    "# Выполнение Задания 1.1\n",
    "## Этап 1. Импортирование модулей\n",
    "Импортируем модуль `math` с математическими функциями из стандартной\n",
    "библиотеки:\n"
   ]
  },
  {
   "cell_type": "code",
   "execution_count": 158,
   "id": "0bbaeefc-1f84-4f70-996f-e4344832578e",
   "metadata": {},
   "outputs": [],
   "source": [
    "import math"
   ]
  },
  {
   "cell_type": "code",
   "execution_count": 159,
   "id": "6df536a2-dadd-4a95-b86e-79b4a07b4249",
   "metadata": {},
   "outputs": [
    {
     "data": {
      "text/plain": [
       "1.0"
      ]
     },
     "execution_count": 159,
     "metadata": {},
     "output_type": "execute_result"
    }
   ],
   "source": [
    "math.sin(math.pi/2)"
   ]
  },
  {
   "cell_type": "markdown",
   "id": "e8694402",
   "metadata": {},
   "source": [
    "Импортируем расширение `numpy` и создадим псевдоним `np` для доступа к\n",
    "инструментам модуля, не используя имя `numpy`"
   ]
  },
  {
   "cell_type": "code",
   "execution_count": 160,
   "id": "a6befde1",
   "metadata": {},
   "outputs": [],
   "source": [
    "import numpy as np"
   ]
  },
  {
   "cell_type": "markdown",
   "id": "c4c1b7d0",
   "metadata": {},
   "source": [
    "Расширение `numpy` основано на работе со структурой данных массив `( ndarray )`.\n",
    "Массив `( ndarray )` не является встроенным типом данных Python, он является\n",
    "базовым типом расширения `numpy` .\n",
    "Импортируем модуль `pyplot` из пакета `matplotlib` для построения графиков.\n",
    "Для этого примененим синтаксис `<имя пакета>.<имя модуля в пакете>` и\n",
    "создадим псевдоним имени модуля `plt`"
   ]
  },
  {
   "cell_type": "code",
   "execution_count": 161,
   "id": "fe99883f",
   "metadata": {},
   "outputs": [],
   "source": [
    "import matplotlib.pyplot as plt"
   ]
  },
  {
   "cell_type": "markdown",
   "id": "11971f80",
   "metadata": {},
   "source": [
    "Импортируем модуль constants из пакета расширений `scipy` с псевдонимом\n",
    "`const` . Модуль constants предоставляет доступ к значениям физических\n",
    "констант"
   ]
  },
  {
   "cell_type": "code",
   "execution_count": 162,
   "id": "e85891a9",
   "metadata": {},
   "outputs": [],
   "source": [
    "\n",
    "import scipy.constants as const\n",
    "\n"
   ]
  },
  {
   "cell_type": "markdown",
   "id": "88256185",
   "metadata": {},
   "source": [
    "Импортируем модуль `sympy` для символьных вычислений в Python"
   ]
  },
  {
   "cell_type": "code",
   "execution_count": 163,
   "id": "6ab7b031",
   "metadata": {},
   "outputs": [],
   "source": [
    "import sympy"
   ]
  },
  {
   "cell_type": "markdown",
   "id": "c567cd5a",
   "metadata": {},
   "source": [
    "## Этап 2. Создание переменных"
   ]
  },
  {
   "cell_type": "markdown",
   "id": "7ba1e179",
   "metadata": {},
   "source": [
    "**Переменные** создаются при первом присваивании им значений. Слева от\n",
    "оператора присваивания (`=`) записывается переменная, справа — выражение,\n",
    "результатом вычисления которого является объект: `переменная = объект` . Имена\n",
    "переменных рекомендовано задавать в нижнем регистре с использованием знака\n",
    "нижнего подчеркивания для смыслового разделения имени на части, например\n",
    "`first_variable = 1` . Объявлять переменные перед их инициализацией не нужно."
   ]
  },
  {
   "cell_type": "code",
   "execution_count": 164,
   "id": "abc02190",
   "metadata": {},
   "outputs": [],
   "source": [
    "h_start = 1 # вертикальная составляющая положения тела в момент запуска\n",
    "h_end = 3.0E+0 # вертикальная составляющая положения тела в конечный момент движ\n",
    "T = 3.0 # время полета\n",
    "s_end = 5.0e0 # горизонтальное перемещение тела за время полета"
   ]
  },
  {
   "cell_type": "code",
   "execution_count": 165,
   "id": "6a19f3d7",
   "metadata": {},
   "outputs": [
    {
     "data": {
      "text/plain": [
       "3.0"
      ]
     },
     "execution_count": 165,
     "metadata": {},
     "output_type": "execute_result"
    }
   ],
   "source": [
    "h_start # переменная не отобразится\n",
    "h_end # переменная отобразится"
   ]
  },
  {
   "cell_type": "markdown",
   "id": "dd0558ca",
   "metadata": {},
   "source": [
    "Отобразить значение переменной можно, указав ее имя в ячейке ввода в\n",
    "последней строке или с использованием встроенной функции `print`\n"
   ]
  },
  {
   "cell_type": "code",
   "execution_count": 166,
   "id": "bc304b63",
   "metadata": {},
   "outputs": [
    {
     "name": "stdout",
     "output_type": "stream",
     "text": [
      "1 3.0\n"
     ]
    }
   ],
   "source": [
    "print(h_start, h_end)"
   ]
  },
  {
   "cell_type": "markdown",
   "id": "0fe9baf0",
   "metadata": {},
   "source": [
    "Определим значение ускорения свободного падения для дальнейших расчетов:"
   ]
  },
  {
   "cell_type": "code",
   "execution_count": 167,
   "id": "a20267f3",
   "metadata": {},
   "outputs": [
    {
     "data": {
      "text/plain": [
       "(9.80665, 'm s^-2')"
      ]
     },
     "execution_count": 167,
     "metadata": {},
     "output_type": "execute_result"
    }
   ],
   "source": [
    "g = const.g\n",
    "g, const.unit('standard acceleration of gravity')"
   ]
  },
  {
   "cell_type": "markdown",
   "id": "6ffce4d9",
   "metadata": {},
   "source": [
    "$\\color{red}\\text{Привожу}$ несколько примеров физических констант из модуля\n",
    "`constants` пакета расширений `scipy`:"
   ]
  },
  {
   "cell_type": "code",
   "execution_count": 168,
   "id": "b7b574fa",
   "metadata": {},
   "outputs": [
    {
     "data": {
      "text/plain": [
       "299792458.0"
      ]
     },
     "execution_count": 168,
     "metadata": {},
     "output_type": "execute_result"
    }
   ],
   "source": [
    "c=const.c\n",
    "c"
   ]
  },
  {
   "cell_type": "code",
   "execution_count": 169,
   "id": "2c32575e",
   "metadata": {},
   "outputs": [
    {
     "data": {
      "text/plain": [
       "1.602176634e-19"
      ]
     },
     "execution_count": 169,
     "metadata": {},
     "output_type": "execute_result"
    }
   ],
   "source": [
    "e=const.e\n",
    "e"
   ]
  },
  {
   "cell_type": "code",
   "execution_count": 170,
   "id": "55d6b929",
   "metadata": {},
   "outputs": [
    {
     "data": {
      "text/plain": [
       "1.380649e-23"
      ]
     },
     "execution_count": 170,
     "metadata": {},
     "output_type": "execute_result"
    }
   ],
   "source": [
    "k=const.k\n",
    "k"
   ]
  },
  {
   "cell_type": "markdown",
   "id": "8f67bdbe",
   "metadata": {},
   "source": [
    "Временной отрезок $[0, T]$ представим в виде последовательности чисел. Cоздадим\n",
    "последовательность равномерно распределенных чисел на отрезке $[0, T]$  с шагом\n",
    "0.01 двумя способами: на основе встроенного типа список ( `list` ) и на основе\n",
    "массива ( `ndarray` ) из расширения `numpy`"
   ]
  },
  {
   "cell_type": "code",
   "execution_count": 171,
   "id": "fbfcb1d2",
   "metadata": {},
   "outputs": [],
   "source": [
    "step = 0.01\n",
    "t_list = [0 + i*step for i in range(int(T/0.01))]\n",
    "t_array = np.arange(0,T,step)"
   ]
  },
  {
   "cell_type": "markdown",
   "id": "d2bef23f",
   "metadata": {},
   "source": [
    "$\\color{red}\\text{Сформулируем}$ спецификации функций `range` и `arange`,привидите пример."
   ]
  },
  {
   "cell_type": "code",
   "execution_count": 172,
   "id": "9e9a8a41",
   "metadata": {},
   "outputs": [
    {
     "name": "stdout",
     "output_type": "stream",
     "text": [
      "[0, 1, 2, 3, 4, 5, 6, 7, 8, 9]\n"
     ]
    }
   ],
   "source": [
    "print(list(range(10)))"
   ]
  },
  {
   "cell_type": "code",
   "execution_count": 173,
   "id": "cb37bbb6",
   "metadata": {},
   "outputs": [
    {
     "name": "stdout",
     "output_type": "stream",
     "text": [
      "[1 2 3 4 5 6 7 8 9]\n"
     ]
    }
   ],
   "source": [
    "print(np.arange(1,10,+1))"
   ]
  },
  {
   "cell_type": "markdown",
   "id": "a6a428a7",
   "metadata": {},
   "source": [
    "Запомните, что после создания списка (`list`)его размер можно, после создания массива (`ndarray`)его размер изменить нельзя."
   ]
  },
  {
   "cell_type": "markdown",
   "id": "7e1dd1c9",
   "metadata": {},
   "source": [
    "# Этап 3. Определение функции перемещения и нахождение угла запуска тела"
   ]
  },
  {
   "cell_type": "markdown",
   "id": "0d216f73",
   "metadata": {},
   "source": [
    "Полагаем, что начало прямоугольной декартовой системы координат соответствует\n",
    "уровню земли. Тогда в начальный момент движения тела $t=0$ имеем, что $$s_x(0)=0, s_y(0)=h_{start} $$\n",
    "Для постоения функции перемещения $(s_{x}(t),s_{y}(t))$ воспользуемся вторым законом Ньютона $$ma=F$$\n",
    "где $m$ - масса тела,ускоренная движения тела a=$(s_{x}''(t),s_{y}''(t))$ и приложенная сила **F** = $m(0,-g)$. В результате имеем два уравнения, что $$s_{x}''(t)=0,     s_{y}''(t)=-g$$\n",
    "На основании уравнений с учетом начальных условий можно записать аналитический вид для функций $s_{x}(t)$ и $s_y(t)$\n",
    "$$s_{x}(t)=s_{x}(0)+v0_{x}t=0+v0{x}t,$$\n",
    " $$s_{y}(t)=s_y(0)+v0_yt-\\frac{g}{2}t^2=h_{start}+v0_yt-\\frac{g}{2}t^2,$$\n",
    " где v0=$(v0_x,v0_y)$обозначает неизвестную скорость движения тела в начальный момент времени $t=0$"
   ]
  },
  {
   "cell_type": "markdown",
   "id": "392ca24b",
   "metadata": {},
   "source": [
    "Из условия задачи имеем, что $s_{x}(T) = s_{end}$. Из этого соотношения находим значение для $v0_{x}$"
   ]
  },
  {
   "cell_type": "code",
   "execution_count": 174,
   "id": "60e86117",
   "metadata": {},
   "outputs": [
    {
     "data": {
      "text/plain": [
       "1.6666666666666667"
      ]
     },
     "execution_count": 174,
     "metadata": {},
     "output_type": "execute_result"
    }
   ],
   "source": [
    "v0_x = s_end/T\n",
    "v0_x"
   ]
  },
  {
   "cell_type": "markdown",
   "id": "4ef8b4ff",
   "metadata": {},
   "source": [
    "Из условия задачи имеем, что $s_{y}(T) = s_{end}$. Из этого соотношения находим значение для $v0_{y}$"
   ]
  },
  {
   "cell_type": "code",
   "execution_count": 175,
   "id": "d4de982d",
   "metadata": {},
   "outputs": [
    {
     "data": {
      "text/plain": [
       "15.376641666666666"
      ]
     },
     "execution_count": 175,
     "metadata": {},
     "output_type": "execute_result"
    }
   ],
   "source": [
    "v0_y = (h_end-h_start+g/2*T**2)/T\n",
    "v0_y"
   ]
  },
  {
   "cell_type": "markdown",
   "id": "78633502",
   "metadata": {},
   "source": [
    "Значение угла запуска тела $\\alpha$ определяем из соотношения $tan\\alpha=\\frac{v0_y}{v0_x}$"
   ]
  },
  {
   "cell_type": "code",
   "execution_count": 176,
   "id": "1a38dbc8",
   "metadata": {},
   "outputs": [
    {
     "data": {
      "text/plain": [
       "(1.462828312588189, 83.81388846354714)"
      ]
     },
     "execution_count": 176,
     "metadata": {},
     "output_type": "execute_result"
    }
   ],
   "source": [
    "alpha = math.atan(v0_y/v0_x)\n",
    "alpha, math.degrees(alpha)"
   ]
  },
  {
   "cell_type": "markdown",
   "id": "849d06d2",
   "metadata": {},
   "source": [
    "Результирующая функция перемещения имеет следующий вид"
   ]
  },
  {
   "cell_type": "code",
   "execution_count": 177,
   "id": "bada0710",
   "metadata": {},
   "outputs": [
    {
     "data": {
      "text/plain": [
       "'s_x(t) = 1.6666666666666667 t'"
      ]
     },
     "execution_count": 177,
     "metadata": {},
     "output_type": "execute_result"
    }
   ],
   "source": [
    "f's_x(t) = {v0_x} t'"
   ]
  },
  {
   "cell_type": "code",
   "execution_count": 178,
   "id": "146ba781",
   "metadata": {},
   "outputs": [
    {
     "data": {
      "text/plain": [
       "'s_y(t) = 1 + 15.3766 t - 9.80665/2*t²'"
      ]
     },
     "execution_count": 178,
     "metadata": {},
     "output_type": "execute_result"
    }
   ],
   "source": [
    "f's_y(t) = {h_start} + {v0_y:.6} t - {g:.6}/2*t\\N{superscript two}'"
   ]
  },
  {
   "cell_type": "markdown",
   "id": "1879324b",
   "metadata": {},
   "source": [
    "# Этап 4. Построение графика траектории движения тела "
   ]
  },
  {
   "cell_type": "markdown",
   "id": "175f797c",
   "metadata": {},
   "source": [
    "Построение графиков функций осуществляется по координатам точек графика. Для\n",
    "этого нужно создать последовательность значений -координат точек графика функции и последовательность соответствующих значений -координат точек\n",
    "графика функции.\n",
    "На Этапе 2 было создано две последовательности равномерно распределенных\n",
    "чисел на отрезке $[0,T]$  с шагом 0.01 для переменной $t$"
   ]
  },
  {
   "cell_type": "code",
   "execution_count": 179,
   "id": "5270f7bc",
   "metadata": {},
   "outputs": [],
   "source": [
    "t_list, t_array;"
   ]
  },
  {
   "cell_type": "markdown",
   "id": "24bfbe7e",
   "metadata": {},
   "source": [
    "Определим списки чисел, соответствующие горизонтальным и вертикальным\n",
    "составляющим положения тела в моменты времени `t_list` с использованием\n",
    "формул, полученных на Этапе 3:"
   ]
  },
  {
   "cell_type": "code",
   "execution_count": 180,
   "id": "878f13ef",
   "metadata": {},
   "outputs": [],
   "source": [
    "s_x_list = [v0_x*t for t in t_list]\n",
    "s_y_list = [h_start+v0_y*t-g*t**2/2 for t in t_list]"
   ]
  },
  {
   "cell_type": "markdown",
   "id": "fbd495f7",
   "metadata": {},
   "source": [
    "Определим массивы чисел, соответствующие горизонтальным и вертикальным\n",
    "составляющим положения тела в момент времени `t_array` :"
   ]
  },
  {
   "cell_type": "code",
   "execution_count": 181,
   "id": "8129f668",
   "metadata": {},
   "outputs": [],
   "source": [
    "s_x_array = v0_x*t_array\n",
    "s_y_array = h_start+v0_y*t_array-g*t_array**2/2"
   ]
  },
  {
   "cell_type": "markdown",
   "id": "72c6836b",
   "metadata": {},
   "source": [
    "*Обратим внимание*, что арифметические действия ( +, -,* , /, **) с массивами\n",
    "`ndarray` выполняются **поэлементно** без использования дополнительного\n",
    "синтаксиса.\n",
    "\n",
    "Строим график траектории движения тела, используя инструменты модуля `pyplot`\n",
    "пакета `matplotlib` . Смотрите **Help | Matplotlib Reference** для справочной\n",
    "информации по используемым функциям: `figure` , `plot` , `title` , `xlabel` ,\n",
    "`ylabel` , `axis` , `xlim` , `ylim` .\n"
   ]
  },
  {
   "cell_type": "code",
   "execution_count": 182,
   "id": "b31e6d57",
   "metadata": {},
   "outputs": [
    {
     "data": {
      "text/plain": [
       "(np.float64(0.0), np.float64(5.0), np.float64(0.0), np.float64(14.0))"
      ]
     },
     "execution_count": 182,
     "metadata": {},
     "output_type": "execute_result"
    },
    {
     "data": {
      "image/png": "[encoded data removed]",
      "text/plain": [
       "<Figure size 640x480 with 1 Axes>"
      ]
     },
     "metadata": {},
     "output_type": "display_data"
    }
   ],
   "source": [
    "plt.figure()\n",
    "plt.plot(s_x_list,s_y_list,'b-',lw=5)\n",
    "plt.title('Вертикальное перемещение тела')\n",
    "plt.xlabel('x (m)'); plt.ylabel('y (m)') # символ ; позволяет записывать несколь\n",
    "plt.axis([0, s_end, 0, h_end+11])"
   ]
  },
  {
   "cell_type": "markdown",
   "id": "3a727bb7",
   "metadata": {},
   "source": []
  },
  {
   "cell_type": "code",
   "execution_count": 183,
   "id": "02610e73",
   "metadata": {},
   "outputs": [
    {
     "data": {
      "image/png": "[encoded data removed]",
      "text/plain": [
       "<Figure size 640x480 with 1 Axes>"
      ]
     },
     "metadata": {},
     "output_type": "display_data"
    }
   ],
   "source": [
    "plt.figure()\n",
    "plt.plot(s_x_array,s_y_array,color='green',lw=3)\n",
    "plt.title('Вертикальное перемещение тела')\n",
    "plt.xlabel('x (m)'); plt.ylabel('y (m)')\n",
    "# альтернативный синтаксис для установки пределов по осям\n",
    "plt.xlim(0, s_end)\n",
    "plt.ylim(0, h_end+11);"
   ]
  },
  {
   "cell_type": "markdown",
   "id": "b6caa6a7",
   "metadata": {},
   "source": [
    "# Задание 1.2. Определение момента времени касания телом земли"
   ]
  },
  {
   "cell_type": "markdown",
   "id": "eb25b70d",
   "metadata": {},
   "source": [
    "Для задачи о падении тела из Задания 1.1 $\\color{red}\\text{найдем}$ момент времени касания телом земли (время нахождения тела в воздухе).\n",
    "\n",
    "Выполнение задания осуществим на основе двух подходов.\n",
    "\n",
    "*Подход 1* (**точное решение**): время касания телом земли находим как точное решение уравнения $s_y(t)=0$;\n",
    "\n",
    "*Подход 2* (**приближенное решение**)\n",
    "\n",
    "-Постойте последовательность $s_y$ на временом отрезке $[0,t_{stop}]$,чтобы момент касания ела земли $t^*$ попадал в выбранный отрезок, т.е $t^*\\in[0,t_{stop}]$.  \n",
    "    Отметим, что $t_{stop}>T$, где значение $T$ задается в Задании 1.1.\n",
    "- Найдите в построенной последовательности $s_y$ два соседних элемента последовательности, значения которых меняют знак. Т.е. найдем значение индекса $k$, для которого $s_y[k]s_y[k+1]<0$. Это будет озночать, что $0\\in(s_y[k],s_y[k+1])$.\n",
    "- Постоем прямую линию $s_{lin}(t)$, проходящую через две точки $(t[k],s_y[k])$\n",
    "и $t[k+1],s_y[k+1]$  и найдите значение $t^*\\in(t[k],t[k+1])$ из условия $s_lin(t^*)=0$. Найденное значение $t^*$, будет соответствовать точке $(t^*,0)$ на прямой $s_{lin}(t^*)=0$. Найденное значение $t^*$, будет соответствовать точке $(t^*,0)$ на прямой $s_{lin}(t)$. $\\color{red}\\text{Приведем}$ в документе формулы для прямой $s_{lin}(t)$ и для вычисления $t^*$.\n",
    "    $\\color{red}\\text{Сравним}$ точное решение (*Подход 1*) и приближенное решение (*Подход 2*), вычислив относительную ошибку."
   ]
  },
  {
   "cell_type": "markdown",
   "id": "0ca184e9",
   "metadata": {},
   "source": [
    "# Выполнение Задания 1.2"
   ]
  },
  {
   "cell_type": "markdown",
   "id": "cb92129f",
   "metadata": {},
   "source": [
    "Рассмотрим *Подход 1* выполнения Задания 1.2.\n",
    "\n",
    "Для решения алгебраического уравнения $s_y(t)=0$ воспользуемся функцией\n",
    "`solve` из модуля `sympy` , которая предназначена для решения алгебраических\n",
    "уравнений и систем уравнений. Для выполнения функции `solve` предварительно с\n",
    "помощью функции `symbols` необходимо создать **символьную переменную**,\n",
    "относительно которой будет определено уравнение."
   ]
  },
  {
   "cell_type": "code",
   "execution_count": 184,
   "id": "9735ffd8",
   "metadata": {},
   "outputs": [
    {
     "data": {
      "text/plain": [
       "[-0.0637382309488101, 3.19970039267921]"
      ]
     },
     "execution_count": 184,
     "metadata": {},
     "output_type": "execute_result"
    }
   ],
   "source": [
    "t = sympy.symbols('t')\n",
    "result = sympy.solve(h_start+v0_y*t-g*t**2/2, t)\n",
    "result"
   ]
  },
  {
   "cell_type": "code",
   "execution_count": 185,
   "id": "3cd4a280",
   "metadata": {},
   "outputs": [
    {
     "data": {
      "text/latex": [
       "$\\displaystyle 3.19970039267921$"
      ],
      "text/plain": [
       "3.19970039267921"
      ]
     },
     "execution_count": 185,
     "metadata": {},
     "output_type": "execute_result"
    }
   ],
   "source": [
    "t_star_exact = result[-1]\n",
    "t_star_exact"
   ]
  },
  {
   "cell_type": "markdown",
   "id": "e588271d",
   "metadata": {},
   "source": [
    "$\\color{red}\\text{Сформулируем}$ спецификации функций `symbols` и `solve` из\n",
    "модуля `sympy`.$\\color{red}\\text{Приведите}$ два собственных примера решения алгебраических уравнений"
   ]
  },
  {
   "cell_type": "code",
   "execution_count": 186,
   "id": "1c0a46c8",
   "metadata": {},
   "outputs": [
    {
     "name": "stdout",
     "output_type": "stream",
     "text": [
      "[1, 2, 3]\n"
     ]
    }
   ],
   "source": [
    "from sympy import symbols, Eq, solve\n",
    "\n",
    "x = symbols('x')\n",
    "\n",
    "equation = Eq(x**3 - 6*x**2 + 11*x - 6, 0)\n",
    "\n",
    "solution = solve(equation, x)\n",
    "print(solution)  "
   ]
  },
  {
   "cell_type": "code",
   "execution_count": 187,
   "id": "85b6af6d",
   "metadata": {},
   "outputs": [
    {
     "name": "stdout",
     "output_type": "stream",
     "text": [
      "[-2, -1]\n"
     ]
    }
   ],
   "source": [
    "from sympy import symbols, Eq, solve\n",
    "\n",
    "x = symbols('x')\n",
    "equation = Eq(x**2 + 3*x + 2, 0)\n",
    "solution = solve(equation, x)\n",
    "print(solution)  "
   ]
  },
  {
   "cell_type": "markdown",
   "id": "e8e653fb",
   "metadata": {},
   "source": [
    "# Задание 1.3. Построение секущей, касательной и нормали к графику функции"
   ]
  },
  {
   "cell_type": "markdown",
   "id": "d843e345",
   "metadata": {},
   "source": [
    "$\\color{red}\\text{Построим}$ в одной графической области:\n",
    "- график траектории движения тела $ (s_x(t),s_y(t))$ для $t \\in[0,T]$ из Задания 1.1;\n",
    "- график секущей прямой к траектории движения тела, проходящей через начальную точку при $t=0$ и конеччную точку при $t=T$\n",
    "- график касательной прямой к траектории движения тела в начальной точке при $t=0$\n",
    "- график нормальной прямой к траектории движения тела в начальной точке при $t=0$\n",
    "\n",
    "Построение графиков функций осуществляется по координатам точек графика. Для\n",
    "построения графиков прямых линий (секущая, касательная, нормаль) используйте\n",
    "только две точки.\n",
    "## Выполнение Задания 1.3\n",
    "Подготовим необходимые данные для построения секущей прямой к траектории\n",
    "движения тела.\n",
    "\n",
    "Воспользуемся *векторно-параметрическим уравнением прямой* для заданной\n",
    "точки $p_{start}$ , лежащей на прямой, и заданного направляющего вектора $a$\n",
    "\n",
    "$p(t) = p_{start} + at$\n",
    "\n",
    "Направляющий вектор можно определить как $a = p_{end} - p_{start}$, где точка $p_{end}$ лежит на прямой и отлична от точки $p_{start}$\n",
    "\n",
    "Введем новые переменные для описания начальной точки $p_{start}$ и конечной точки $p_{end}$  через их координаты. Для новых переменных используем тип массив\n",
    "( `ndarray` ) из `numpy` . Представление координат точек в виде массивов иногда эффективнее, чем представление в виде списков, для дальнейшей работы с\n",
    "координатами."
   ]
  },
  {
   "cell_type": "code",
   "execution_count": 188,
   "id": "26e6bad8",
   "metadata": {},
   "outputs": [
    {
     "data": {
      "text/plain": [
       "(array([0., 1.]), array([4.98333333, 3.13994275]))"
      ]
     },
     "execution_count": 188,
     "metadata": {},
     "output_type": "execute_result"
    }
   ],
   "source": [
    "p_start = np.array([s_x_array[0],s_y_array[0]])\n",
    "p_end = np.array([s_x_array[-1],s_y_array[-1]])\n",
    "p_start, p_end\n"
   ]
  },
  {
   "cell_type": "markdown",
   "id": "cce8628c",
   "metadata": {},
   "source": [
    "Вычислим направляющий вектор:"
   ]
  },
  {
   "cell_type": "code",
   "execution_count": 189,
   "id": "ced604f1",
   "metadata": {},
   "outputs": [],
   "source": [
    "a = p_end-p_start"
   ]
  },
  {
   "cell_type": "markdown",
   "id": "2f2318e6",
   "metadata": {},
   "source": [
    "Для построения графика прямой достаточно задания двух точек, лежащих на\n",
    "прямой:"
   ]
  },
  {
   "cell_type": "code",
   "execution_count": 190,
   "id": "15e64217",
   "metadata": {},
   "outputs": [],
   "source": [
    "p = [p_start + a*t for t in [-1, 2]]\n",
    "p = np.array(p)"
   ]
  },
  {
   "cell_type": "markdown",
   "id": "67e5ecf8",
   "metadata": {},
   "source": [
    "Построим график траектории движения тела и график секущей прямой в одной\n",
    "графической области:"
   ]
  },
  {
   "cell_type": "code",
   "execution_count": 191,
   "id": "315fad23",
   "metadata": {},
   "outputs": [
    {
     "data": {
      "image/png": "[encoded data removed]",
      "text/plain": [
       "<Figure size 640x480 with 1 Axes>"
      ]
     },
     "metadata": {},
     "output_type": "display_data"
    }
   ],
   "source": [
    "fig = plt.figure()\n",
    "plt.plot(s_x_array,s_y_array,'b-',lw=5)\n",
    "plt.plot(p[:,0],p[:,1],'--'\n",
    ",color='red',lw=1) \n",
    "plt.xlabel('x (m)'); plt.ylabel('y (m)')\n",
    "plt.axis([-5, s_end+5, 0, h_end+11]);\n"
   ]
  },
  {
   "cell_type": "markdown",
   "id": "9681e8cc",
   "metadata": {},
   "source": [
    "$\\color{red}\\text{Построим}$ график касательной прямой к траектории движения\n",
    "тела в одной графической области с траекторией движения и секущей прямой в точке серединке по $x$"
   ]
  },
  {
   "cell_type": "code",
   "execution_count": 192,
   "id": "c9ef796d",
   "metadata": {},
   "outputs": [
    {
     "data": {
      "text/plain": [
       "[<matplotlib.lines.Line2D at 0x118efca00>]"
      ]
     },
     "execution_count": 192,
     "metadata": {},
     "output_type": "execute_result"
    },
    {
     "data": {
      "image/png": "[encoded data removed]",
      "text/plain": [
       "<Figure size 640x480 with 1 Axes>"
      ]
     },
     "metadata": {},
     "output_type": "display_data"
    }
   ],
   "source": [
    "point_index = len(s_x_array) // 2\n",
    "x_start = s_x_array[point_index]\n",
    "y_start = s_y_array[point_index]\n",
    "k = (v0_y - g * t_array[point_index])\n",
    "x = np.linspace(-5, 15, 100)\n",
    "y = k * (x - x_start) + y_start\n",
    "plt.plot(s_x_array, s_y_array, 'b-', lw=0.5)\n",
    "plt.plot(p[:, 0], p[:, 1], '--', color='red', lw=1)\n",
    "plt.plot(x, y, '--', lw=2)"
   ]
  },
  {
   "cell_type": "markdown",
   "id": "faa2c1f0",
   "metadata": {},
   "source": [
    "**$\\color{red}\\text{Вычисление}$ углового коэффициента (k):**\n",
    "- Здесь мы рассчитываем угловой коэффициент $k$, который используется для определения наклона касательной линии в выбранной точке.\n",
    " - v0_y — начальная скорость по оси y, g — ускорение свободного падения, а t_array[point_index] — время в момент, соответствующий средней точке. Угловой коэффициент рассчитывается как разница между начальной скоростью и произведением ускорения на время."
   ]
  },
  {
   "cell_type": "markdown",
   "id": "6c0ff995",
   "metadata": {},
   "source": [
    "$\\color{red}\\text{Сформулируем}$ уравнение нормальной прямой к\n",
    "траектории движения тела в момент времени $t=0$ , используя свойство\n",
    "перпендикуляртности каксательной и нормальной прямых.\n",
    "\n",
    "1.**Определение точки на траектории:**\n",
    "- В момент времени $t=0$ у нас есть координаты $(x_0,y_0):$    \n",
    "    x_0 = s_x_array[0]\n",
    "\n",
    "    y_0 = s_y_array[0]\n",
    "\n",
    "2. **Вычисление углового коэффициента касательной:**\n",
    "\n",
    "- Угловой коэффициент касательной в момент времени $t=0$\n",
    "$$k_{кас}=\\frac{dy}{dx}$$\n",
    "Предполагая, что у вас есть уравнение движения например, уравнение траектории $y=f(x)$, производная в точке $t=0$ даст этот коэффициент.\n",
    "3. **Угловой коэффициент нормальной прямой:**\n",
    "- Угловой коэффициент нормальной прямой:$$k_{норм}=-\\frac{1}{k_{кас}}$$\n",
    "4.**Уравнение нормальной прямой:**\n",
    "- Уравнение нормальной прямой в точке $(x_0,y_0):$\n",
    "$$y-y_0=K_{норм}(x-x_0)$$"
   ]
  },
  {
   "cell_type": "markdown",
   "id": "d13fc0a5",
   "metadata": {},
   "source": [
    "$\\color{red}\\text{Построим}$ график нормальной прямой к траектории движения\n",
    "тела в момент времени $t=0$ в одной графической области с траекторией\n",
    "движения, секущей прямой и касательной прямой."
   ]
  },
  {
   "cell_type": "code",
   "execution_count": 193,
   "id": "677f1f8d",
   "metadata": {},
   "outputs": [
    {
     "data": {
      "text/plain": [
       "[<matplotlib.lines.Line2D at 0x1199e05b0>]"
      ]
     },
     "execution_count": 193,
     "metadata": {},
     "output_type": "execute_result"
    },
    {
     "data": {
      "image/png": "[encoded data removed]",
      "text/plain": [
       "<Figure size 640x480 with 1 Axes>"
      ]
     },
     "metadata": {},
     "output_type": "display_data"
    }
   ],
   "source": [
    "normal_x = np.linspace(-5, 15, 100)\n",
    "k_norm = -1 / v0_y\n",
    "normal_y = k_norm * (normal_x - p_start[0]) + p_start[1]\n",
    "fig = plt.figure()\n",
    "plt.plot(s_x_array, s_y_array, 'b-', lw=0.5)\n",
    "plt.plot(p[:, 0], p[:, 1], '--', color='red', lw=1)\n",
    "plt.plot(normal_x, normal_y, '--', lw=2, color='green')"
   ]
  },
  {
   "cell_type": "markdown",
   "id": "bde1b974",
   "metadata": {},
   "source": [
    "# Задание 1.4. Построение графиков функций"
   ]
  },
  {
   "cell_type": "markdown",
   "id": "186b2f75",
   "metadata": {},
   "source": [
    "$\\color{red}\\text{Построим}$ графики функций на плоскости по координатам точек согласно варианту. Функция задана.\n",
    "\n",
    "а) полярным уравнением $p=p(\\varphi)$ в полярной системе координат $(\\varphi,p)$ \n",
    "\n",
    "б) параметрическим уравнением $x=x(t),y=y(t)$ в декартовой системе координат $(x,y)$\n",
    "\n",
    "Построение графиков функций осуществляется по координатам точек графика. Для\n",
    "этого нужно создать последовательность значений $x(\\varphi)$-координат точек графика функции и последовательность соответствующих значений $y(p)$-координат точек графика функции.\n"
   ]
  },
  {
   "cell_type": "markdown",
   "id": "65446af8",
   "metadata": {},
   "source": [
    "## Выполнение задания 1.4.\n",
    "**Вариант 2**\n",
    "\n",
    "- Функция задана полярным уравнением $p=p(\\varphi)$ в полярной системе координат $(\\varphi,p)$\n",
    "\n",
    "а) *Роза* $p=a\\sin(\\frac{m}{n}\\varphi),a\\in\\mathbb{R},m,n$-натуральные нечетные, $m\\neq n. $"
   ]
  },
  {
   "cell_type": "code",
   "execution_count": 194,
   "id": "78dd0f06",
   "metadata": {},
   "outputs": [
    {
     "data": {
      "text/plain": [
       "[<matplotlib.lines.Line2D at 0x119a12130>]"
      ]
     },
     "execution_count": 194,
     "metadata": {},
     "output_type": "execute_result"
    },
    {
     "data": {
      "image/png": "[encoded data removed]",
      "text/plain": [
       "<Figure size 640x480 with 1 Axes>"
      ]
     },
     "metadata": {},
     "output_type": "display_data"
    }
   ],
   "source": [
    "a=0.5\n",
    "m=15\n",
    "n=3\n",
    "phi = np.arange(0,4 * np.pi, 0.01)\n",
    "p = a*np.sin((m/n)*phi)\n",
    "plt.polar(phi,p)\n"
   ]
  },
  {
   "cell_type": "markdown",
   "id": "5f1e4bd1",
   "metadata": {},
   "source": [
    "- Функция задана параметрическим уравнением $x=x(t),y=y(t)$ в декартовой системе координат $(x,y)$\n",
    "\n",
    "$б)$ $x=\\sqrt{1-t^2}, y=\\tan\\sqrt{1+t}.$"
   ]
  },
  {
   "cell_type": "code",
   "execution_count": 195,
   "id": "346ed4fd",
   "metadata": {},
   "outputs": [
    {
     "data": {
      "text/plain": [
       "[<matplotlib.lines.Line2D at 0x119a839a0>]"
      ]
     },
     "execution_count": 195,
     "metadata": {},
     "output_type": "execute_result"
    },
    {
     "data": {
      "image/png": "[encoded data removed]",
      "text/plain": [
       "<Figure size 640x480 with 1 Axes>"
      ]
     },
     "metadata": {},
     "output_type": "display_data"
    }
   ],
   "source": [
    "\n",
    "t = np.arange(-1, 1, 0.01)  \n",
    "x = np.sqrt(1 - t**2)\n",
    "y = np.tan(np.sqrt(1 + t))\n",
    "plt.plot(x, y)"
   ]
  }
 ],
 "metadata": {
  "kernelspec": {
   "display_name": "Python 3",
   "language": "python",
   "name": "python3"
  },
  "language_info": {
   "codemirror_mode": {
    "name": "ipython",
    "version": 3
   },
   "file_extension": ".py",
   "mimetype": "text/x-python",
   "name": "python",
   "nbconvert_exporter": "python",
   "pygments_lexer": "ipython3",
   "version": "3.9.6"
  }
 },
 "nbformat": 4,
 "nbformat_minor": 5
}
